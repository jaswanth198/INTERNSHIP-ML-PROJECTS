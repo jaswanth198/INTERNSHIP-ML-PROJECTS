{
 "cells": [
  {
   "cell_type": "markdown",
   "id": "18a49488",
   "metadata": {
    "papermill": {
     "duration": 0.006875,
     "end_time": "2022-08-09T14:24:30.557410",
     "exception": false,
     "start_time": "2022-08-09T14:24:30.550535",
     "status": "completed"
    },
    "tags": []
   },
   "source": [
    "# Importing Libraries:"
   ]
  },
  {
   "cell_type": "code",
   "execution_count": 1,
   "id": "0f5dd2f9",
   "metadata": {
    "execution": {
     "iopub.execute_input": "2022-08-09T14:24:30.570971Z",
     "iopub.status.busy": "2022-08-09T14:24:30.570485Z",
     "iopub.status.idle": "2022-08-09T14:24:32.316097Z",
     "shell.execute_reply": "2022-08-09T14:24:32.315012Z"
    },
    "papermill": {
     "duration": 1.755667,
     "end_time": "2022-08-09T14:24:32.318977",
     "exception": false,
     "start_time": "2022-08-09T14:24:30.563310",
     "status": "completed"
    },
    "tags": []
   },
   "outputs": [],
   "source": [
    "import numpy as np\n",
    "import pandas as pd\n",
    "import matplotlib.pyplot as plt\n",
    "%matplotlib inline\n",
    "import seaborn as sns\n",
    "from sklearn.ensemble import RandomForestClassifier\n",
    "\n",
    "import warnings\n",
    "warnings.filterwarnings(\"ignore\")"
   ]
  },
  {
   "cell_type": "markdown",
   "id": "7623f92d",
   "metadata": {
    "papermill": {
     "duration": 0.005676,
     "end_time": "2022-08-09T14:24:32.331405",
     "exception": false,
     "start_time": "2022-08-09T14:24:32.325729",
     "status": "completed"
    },
    "tags": []
   },
   "source": [
    "### Importing the dataset:"
   ]
  },
  {
   "cell_type": "code",
   "execution_count": 2,
   "id": "a9a8dedd",
   "metadata": {
    "execution": {
     "iopub.execute_input": "2022-08-09T14:24:32.345495Z",
     "iopub.status.busy": "2022-08-09T14:24:32.344691Z",
     "iopub.status.idle": "2022-08-09T14:24:32.376319Z",
     "shell.execute_reply": "2022-08-09T14:24:32.375194Z"
    },
    "papermill": {
     "duration": 0.0421,
     "end_time": "2022-08-09T14:24:32.379386",
     "exception": false,
     "start_time": "2022-08-09T14:24:32.337286",
     "status": "completed"
    },
    "tags": []
   },
   "outputs": [],
   "source": [
    "train = pd.read_csv(\"../input/titanic/train.csv\")\n",
    "test = pd.read_csv(\"../input/titanic/test.csv\")"
   ]
  },
  {
   "cell_type": "markdown",
   "id": "4df21bef",
   "metadata": {
    "papermill": {
     "duration": 0.005708,
     "end_time": "2022-08-09T14:24:32.391542",
     "exception": false,
     "start_time": "2022-08-09T14:24:32.385834",
     "status": "completed"
    },
    "tags": []
   },
   "source": [
    "### Exploring the dataset:"
   ]
  },
  {
   "cell_type": "code",
   "execution_count": 3,
   "id": "8332f3ad",
   "metadata": {
    "execution": {
     "iopub.execute_input": "2022-08-09T14:24:32.406191Z",
     "iopub.status.busy": "2022-08-09T14:24:32.405375Z",
     "iopub.status.idle": "2022-08-09T14:24:32.436601Z",
     "shell.execute_reply": "2022-08-09T14:24:32.435399Z"
    },
    "papermill": {
     "duration": 0.04199,
     "end_time": "2022-08-09T14:24:32.439997",
     "exception": false,
     "start_time": "2022-08-09T14:24:32.398007",
     "status": "completed"
    },
    "tags": []
   },
   "outputs": [
    {
     "data": {
      "text/html": [
       "<div>\n",
       "<style scoped>\n",
       "    .dataframe tbody tr th:only-of-type {\n",
       "        vertical-align: middle;\n",
       "    }\n",
       "\n",
       "    .dataframe tbody tr th {\n",
       "        vertical-align: top;\n",
       "    }\n",
       "\n",
       "    .dataframe thead th {\n",
       "        text-align: right;\n",
       "    }\n",
       "</style>\n",
       "<table border=\"1\" class=\"dataframe\">\n",
       "  <thead>\n",
       "    <tr style=\"text-align: right;\">\n",
       "      <th></th>\n",
       "      <th>PassengerId</th>\n",
       "      <th>Survived</th>\n",
       "      <th>Pclass</th>\n",
       "      <th>Name</th>\n",
       "      <th>Sex</th>\n",
       "      <th>Age</th>\n",
       "      <th>SibSp</th>\n",
       "      <th>Parch</th>\n",
       "      <th>Ticket</th>\n",
       "      <th>Fare</th>\n",
       "      <th>Cabin</th>\n",
       "      <th>Embarked</th>\n",
       "    </tr>\n",
       "  </thead>\n",
       "  <tbody>\n",
       "    <tr>\n",
       "      <th>0</th>\n",
       "      <td>1</td>\n",
       "      <td>0</td>\n",
       "      <td>3</td>\n",
       "      <td>Braund, Mr. Owen Harris</td>\n",
       "      <td>male</td>\n",
       "      <td>22.0</td>\n",
       "      <td>1</td>\n",
       "      <td>0</td>\n",
       "      <td>A/5 21171</td>\n",
       "      <td>7.2500</td>\n",
       "      <td>NaN</td>\n",
       "      <td>S</td>\n",
       "    </tr>\n",
       "    <tr>\n",
       "      <th>1</th>\n",
       "      <td>2</td>\n",
       "      <td>1</td>\n",
       "      <td>1</td>\n",
       "      <td>Cumings, Mrs. John Bradley (Florence Briggs Th...</td>\n",
       "      <td>female</td>\n",
       "      <td>38.0</td>\n",
       "      <td>1</td>\n",
       "      <td>0</td>\n",
       "      <td>PC 17599</td>\n",
       "      <td>71.2833</td>\n",
       "      <td>C85</td>\n",
       "      <td>C</td>\n",
       "    </tr>\n",
       "    <tr>\n",
       "      <th>2</th>\n",
       "      <td>3</td>\n",
       "      <td>1</td>\n",
       "      <td>3</td>\n",
       "      <td>Heikkinen, Miss. Laina</td>\n",
       "      <td>female</td>\n",
       "      <td>26.0</td>\n",
       "      <td>0</td>\n",
       "      <td>0</td>\n",
       "      <td>STON/O2. 3101282</td>\n",
       "      <td>7.9250</td>\n",
       "      <td>NaN</td>\n",
       "      <td>S</td>\n",
       "    </tr>\n",
       "    <tr>\n",
       "      <th>3</th>\n",
       "      <td>4</td>\n",
       "      <td>1</td>\n",
       "      <td>1</td>\n",
       "      <td>Futrelle, Mrs. Jacques Heath (Lily May Peel)</td>\n",
       "      <td>female</td>\n",
       "      <td>35.0</td>\n",
       "      <td>1</td>\n",
       "      <td>0</td>\n",
       "      <td>113803</td>\n",
       "      <td>53.1000</td>\n",
       "      <td>C123</td>\n",
       "      <td>S</td>\n",
       "    </tr>\n",
       "    <tr>\n",
       "      <th>4</th>\n",
       "      <td>5</td>\n",
       "      <td>0</td>\n",
       "      <td>3</td>\n",
       "      <td>Allen, Mr. William Henry</td>\n",
       "      <td>male</td>\n",
       "      <td>35.0</td>\n",
       "      <td>0</td>\n",
       "      <td>0</td>\n",
       "      <td>373450</td>\n",
       "      <td>8.0500</td>\n",
       "      <td>NaN</td>\n",
       "      <td>S</td>\n",
       "    </tr>\n",
       "  </tbody>\n",
       "</table>\n",
       "</div>"
      ],
      "text/plain": [
       "   PassengerId  Survived  Pclass  \\\n",
       "0            1         0       3   \n",
       "1            2         1       1   \n",
       "2            3         1       3   \n",
       "3            4         1       1   \n",
       "4            5         0       3   \n",
       "\n",
       "                                                Name     Sex   Age  SibSp  \\\n",
       "0                            Braund, Mr. Owen Harris    male  22.0      1   \n",
       "1  Cumings, Mrs. John Bradley (Florence Briggs Th...  female  38.0      1   \n",
       "2                             Heikkinen, Miss. Laina  female  26.0      0   \n",
       "3       Futrelle, Mrs. Jacques Heath (Lily May Peel)  female  35.0      1   \n",
       "4                           Allen, Mr. William Henry    male  35.0      0   \n",
       "\n",
       "   Parch            Ticket     Fare Cabin Embarked  \n",
       "0      0         A/5 21171   7.2500   NaN        S  \n",
       "1      0          PC 17599  71.2833   C85        C  \n",
       "2      0  STON/O2. 3101282   7.9250   NaN        S  \n",
       "3      0            113803  53.1000  C123        S  \n",
       "4      0            373450   8.0500   NaN        S  "
      ]
     },
     "execution_count": 3,
     "metadata": {},
     "output_type": "execute_result"
    }
   ],
   "source": [
    "train.head()"
   ]
  },
  {
   "cell_type": "code",
   "execution_count": 4,
   "id": "d5a32a6b",
   "metadata": {
    "execution": {
     "iopub.execute_input": "2022-08-09T14:24:32.454492Z",
     "iopub.status.busy": "2022-08-09T14:24:32.453706Z",
     "iopub.status.idle": "2022-08-09T14:24:32.460619Z",
     "shell.execute_reply": "2022-08-09T14:24:32.459738Z"
    },
    "papermill": {
     "duration": 0.016834,
     "end_time": "2022-08-09T14:24:32.462946",
     "exception": false,
     "start_time": "2022-08-09T14:24:32.446112",
     "status": "completed"
    },
    "tags": []
   },
   "outputs": [
    {
     "data": {
      "text/plain": [
       "(891, 12)"
      ]
     },
     "execution_count": 4,
     "metadata": {},
     "output_type": "execute_result"
    }
   ],
   "source": [
    "train.shape"
   ]
  },
  {
   "cell_type": "code",
   "execution_count": 5,
   "id": "0e452294",
   "metadata": {
    "execution": {
     "iopub.execute_input": "2022-08-09T14:24:32.477473Z",
     "iopub.status.busy": "2022-08-09T14:24:32.476687Z",
     "iopub.status.idle": "2022-08-09T14:24:32.520092Z",
     "shell.execute_reply": "2022-08-09T14:24:32.518878Z"
    },
    "papermill": {
     "duration": 0.053596,
     "end_time": "2022-08-09T14:24:32.522639",
     "exception": false,
     "start_time": "2022-08-09T14:24:32.469043",
     "status": "completed"
    },
    "tags": []
   },
   "outputs": [
    {
     "data": {
      "text/html": [
       "<div>\n",
       "<style scoped>\n",
       "    .dataframe tbody tr th:only-of-type {\n",
       "        vertical-align: middle;\n",
       "    }\n",
       "\n",
       "    .dataframe tbody tr th {\n",
       "        vertical-align: top;\n",
       "    }\n",
       "\n",
       "    .dataframe thead th {\n",
       "        text-align: right;\n",
       "    }\n",
       "</style>\n",
       "<table border=\"1\" class=\"dataframe\">\n",
       "  <thead>\n",
       "    <tr style=\"text-align: right;\">\n",
       "      <th></th>\n",
       "      <th>PassengerId</th>\n",
       "      <th>Survived</th>\n",
       "      <th>Pclass</th>\n",
       "      <th>Age</th>\n",
       "      <th>SibSp</th>\n",
       "      <th>Parch</th>\n",
       "      <th>Fare</th>\n",
       "    </tr>\n",
       "  </thead>\n",
       "  <tbody>\n",
       "    <tr>\n",
       "      <th>count</th>\n",
       "      <td>891.000000</td>\n",
       "      <td>891.000000</td>\n",
       "      <td>891.000000</td>\n",
       "      <td>714.000000</td>\n",
       "      <td>891.000000</td>\n",
       "      <td>891.000000</td>\n",
       "      <td>891.000000</td>\n",
       "    </tr>\n",
       "    <tr>\n",
       "      <th>mean</th>\n",
       "      <td>446.000000</td>\n",
       "      <td>0.383838</td>\n",
       "      <td>2.308642</td>\n",
       "      <td>29.699118</td>\n",
       "      <td>0.523008</td>\n",
       "      <td>0.381594</td>\n",
       "      <td>32.204208</td>\n",
       "    </tr>\n",
       "    <tr>\n",
       "      <th>std</th>\n",
       "      <td>257.353842</td>\n",
       "      <td>0.486592</td>\n",
       "      <td>0.836071</td>\n",
       "      <td>14.526497</td>\n",
       "      <td>1.102743</td>\n",
       "      <td>0.806057</td>\n",
       "      <td>49.693429</td>\n",
       "    </tr>\n",
       "    <tr>\n",
       "      <th>min</th>\n",
       "      <td>1.000000</td>\n",
       "      <td>0.000000</td>\n",
       "      <td>1.000000</td>\n",
       "      <td>0.420000</td>\n",
       "      <td>0.000000</td>\n",
       "      <td>0.000000</td>\n",
       "      <td>0.000000</td>\n",
       "    </tr>\n",
       "    <tr>\n",
       "      <th>25%</th>\n",
       "      <td>223.500000</td>\n",
       "      <td>0.000000</td>\n",
       "      <td>2.000000</td>\n",
       "      <td>20.125000</td>\n",
       "      <td>0.000000</td>\n",
       "      <td>0.000000</td>\n",
       "      <td>7.910400</td>\n",
       "    </tr>\n",
       "    <tr>\n",
       "      <th>50%</th>\n",
       "      <td>446.000000</td>\n",
       "      <td>0.000000</td>\n",
       "      <td>3.000000</td>\n",
       "      <td>28.000000</td>\n",
       "      <td>0.000000</td>\n",
       "      <td>0.000000</td>\n",
       "      <td>14.454200</td>\n",
       "    </tr>\n",
       "    <tr>\n",
       "      <th>75%</th>\n",
       "      <td>668.500000</td>\n",
       "      <td>1.000000</td>\n",
       "      <td>3.000000</td>\n",
       "      <td>38.000000</td>\n",
       "      <td>1.000000</td>\n",
       "      <td>0.000000</td>\n",
       "      <td>31.000000</td>\n",
       "    </tr>\n",
       "    <tr>\n",
       "      <th>max</th>\n",
       "      <td>891.000000</td>\n",
       "      <td>1.000000</td>\n",
       "      <td>3.000000</td>\n",
       "      <td>80.000000</td>\n",
       "      <td>8.000000</td>\n",
       "      <td>6.000000</td>\n",
       "      <td>512.329200</td>\n",
       "    </tr>\n",
       "  </tbody>\n",
       "</table>\n",
       "</div>"
      ],
      "text/plain": [
       "       PassengerId    Survived      Pclass         Age       SibSp  \\\n",
       "count   891.000000  891.000000  891.000000  714.000000  891.000000   \n",
       "mean    446.000000    0.383838    2.308642   29.699118    0.523008   \n",
       "std     257.353842    0.486592    0.836071   14.526497    1.102743   \n",
       "min       1.000000    0.000000    1.000000    0.420000    0.000000   \n",
       "25%     223.500000    0.000000    2.000000   20.125000    0.000000   \n",
       "50%     446.000000    0.000000    3.000000   28.000000    0.000000   \n",
       "75%     668.500000    1.000000    3.000000   38.000000    1.000000   \n",
       "max     891.000000    1.000000    3.000000   80.000000    8.000000   \n",
       "\n",
       "            Parch        Fare  \n",
       "count  891.000000  891.000000  \n",
       "mean     0.381594   32.204208  \n",
       "std      0.806057   49.693429  \n",
       "min      0.000000    0.000000  \n",
       "25%      0.000000    7.910400  \n",
       "50%      0.000000   14.454200  \n",
       "75%      0.000000   31.000000  \n",
       "max      6.000000  512.329200  "
      ]
     },
     "execution_count": 5,
     "metadata": {},
     "output_type": "execute_result"
    }
   ],
   "source": [
    "train.describe()"
   ]
  },
  {
   "cell_type": "code",
   "execution_count": 6,
   "id": "e6389936",
   "metadata": {
    "execution": {
     "iopub.execute_input": "2022-08-09T14:24:32.538500Z",
     "iopub.status.busy": "2022-08-09T14:24:32.537134Z",
     "iopub.status.idle": "2022-08-09T14:24:32.556894Z",
     "shell.execute_reply": "2022-08-09T14:24:32.555276Z"
    },
    "papermill": {
     "duration": 0.03052,
     "end_time": "2022-08-09T14:24:32.559739",
     "exception": false,
     "start_time": "2022-08-09T14:24:32.529219",
     "status": "completed"
    },
    "tags": []
   },
   "outputs": [
    {
     "name": "stdout",
     "output_type": "stream",
     "text": [
      "<class 'pandas.core.frame.DataFrame'>\n",
      "RangeIndex: 891 entries, 0 to 890\n",
      "Data columns (total 12 columns):\n",
      " #   Column       Non-Null Count  Dtype  \n",
      "---  ------       --------------  -----  \n",
      " 0   PassengerId  891 non-null    int64  \n",
      " 1   Survived     891 non-null    int64  \n",
      " 2   Pclass       891 non-null    int64  \n",
      " 3   Name         891 non-null    object \n",
      " 4   Sex          891 non-null    object \n",
      " 5   Age          714 non-null    float64\n",
      " 6   SibSp        891 non-null    int64  \n",
      " 7   Parch        891 non-null    int64  \n",
      " 8   Ticket       891 non-null    object \n",
      " 9   Fare         891 non-null    float64\n",
      " 10  Cabin        204 non-null    object \n",
      " 11  Embarked     889 non-null    object \n",
      "dtypes: float64(2), int64(5), object(5)\n",
      "memory usage: 83.7+ KB\n"
     ]
    }
   ],
   "source": [
    "train.info()"
   ]
  },
  {
   "cell_type": "markdown",
   "id": "a4fb7f21",
   "metadata": {
    "papermill": {
     "duration": 0.006184,
     "end_time": "2022-08-09T14:24:32.572463",
     "exception": false,
     "start_time": "2022-08-09T14:24:32.566279",
     "status": "completed"
    },
    "tags": []
   },
   "source": [
    "### Exploratory Data Analysis:"
   ]
  },
  {
   "cell_type": "code",
   "execution_count": 7,
   "id": "9182cfb5",
   "metadata": {
    "execution": {
     "iopub.execute_input": "2022-08-09T14:24:32.588098Z",
     "iopub.status.busy": "2022-08-09T14:24:32.587160Z",
     "iopub.status.idle": "2022-08-09T14:24:32.786518Z",
     "shell.execute_reply": "2022-08-09T14:24:32.785313Z"
    },
    "papermill": {
     "duration": 0.210522,
     "end_time": "2022-08-09T14:24:32.789423",
     "exception": false,
     "start_time": "2022-08-09T14:24:32.578901",
     "status": "completed"
    },
    "tags": []
   },
   "outputs": [
    {
     "data": {
      "text/plain": [
       "<AxesSubplot:xlabel='Survived', ylabel='count'>"
      ]
     },
     "execution_count": 7,
     "metadata": {},
     "output_type": "execute_result"
    },
    {
     "data": {
      "image/png": "[encoded data removed]",
      "text/plain": [
       "<Figure size 432x288 with 1 Axes>"
      ]
     },
     "metadata": {},
     "output_type": "display_data"
    }
   ],
   "source": [
    "sns.set_theme(style = 'whitegrid')\n",
    "sns.countplot(train['Survived'])"
   ]
  },
  {
   "cell_type": "code",
   "execution_count": 8,
   "id": "3b24c3fd",
   "metadata": {
    "execution": {
     "iopub.execute_input": "2022-08-09T14:24:32.805511Z",
     "iopub.status.busy": "2022-08-09T14:24:32.804973Z",
     "iopub.status.idle": "2022-08-09T14:24:33.005443Z",
     "shell.execute_reply": "2022-08-09T14:24:33.004035Z"
    },
    "papermill": {
     "duration": 0.211767,
     "end_time": "2022-08-09T14:24:33.008114",
     "exception": false,
     "start_time": "2022-08-09T14:24:32.796347",
     "status": "completed"
    },
    "tags": []
   },
   "outputs": [
    {
     "data": {
      "text/plain": [
       "<AxesSubplot:xlabel='Pclass', ylabel='count'>"
      ]
     },
     "execution_count": 8,
     "metadata": {},
     "output_type": "execute_result"
    },
    {
     "data": {
      "image/png": "[encoded data removed]",
      "text/plain": [
       "<Figure size 432x288 with 1 Axes>"
      ]
     },
     "metadata": {},
     "output_type": "display_data"
    }
   ],
   "source": [
    "sns.countplot(train['Pclass'])"
   ]
  },
  {
   "cell_type": "code",
   "execution_count": 9,
   "id": "9bbef708",
   "metadata": {
    "execution": {
     "iopub.execute_input": "2022-08-09T14:24:33.024206Z",
     "iopub.status.busy": "2022-08-09T14:24:33.023728Z",
     "iopub.status.idle": "2022-08-09T14:24:33.216367Z",
     "shell.execute_reply": "2022-08-09T14:24:33.215066Z"
    },
    "papermill": {
     "duration": 0.203775,
     "end_time": "2022-08-09T14:24:33.219071",
     "exception": false,
     "start_time": "2022-08-09T14:24:33.015296",
     "status": "completed"
    },
    "tags": []
   },
   "outputs": [
    {
     "data": {
      "text/plain": [
       "<AxesSubplot:xlabel='Sex', ylabel='count'>"
      ]
     },
     "execution_count": 9,
     "metadata": {},
     "output_type": "execute_result"
    },
    {
     "data": {
      "image/png": "[encoded data removed]",
      "text/plain": [
       "<Figure size 432x288 with 1 Axes>"
      ]
     },
     "metadata": {},
     "output_type": "display_data"
    }
   ],
   "source": [
    "sns.countplot(train['Sex'])"
   ]
  },
  {
   "cell_type": "code",
   "execution_count": 10,
   "id": "ceff59a2",
   "metadata": {
    "execution": {
     "iopub.execute_input": "2022-08-09T14:24:33.236795Z",
     "iopub.status.busy": "2022-08-09T14:24:33.236363Z",
     "iopub.status.idle": "2022-08-09T14:24:33.468830Z",
     "shell.execute_reply": "2022-08-09T14:24:33.467619Z"
    },
    "papermill": {
     "duration": 0.245313,
     "end_time": "2022-08-09T14:24:33.471884",
     "exception": false,
     "start_time": "2022-08-09T14:24:33.226571",
     "status": "completed"
    },
    "tags": []
   },
   "outputs": [
    {
     "data": {
      "text/plain": [
       "<AxesSubplot:xlabel='SibSp', ylabel='count'>"
      ]
     },
     "execution_count": 10,
     "metadata": {},
     "output_type": "execute_result"
    },
    {
     "data": {
      "image/png": "[encoded data removed]",
      "text/plain": [
       "<Figure size 432x288 with 1 Axes>"
      ]
     },
     "metadata": {},
     "output_type": "display_data"
    }
   ],
   "source": [
    "sns.countplot(train['SibSp'])"
   ]
  },
  {
   "cell_type": "code",
   "execution_count": 11,
   "id": "0e1bcbda",
   "metadata": {
    "execution": {
     "iopub.execute_input": "2022-08-09T14:24:33.490238Z",
     "iopub.status.busy": "2022-08-09T14:24:33.489737Z",
     "iopub.status.idle": "2022-08-09T14:24:33.731515Z",
     "shell.execute_reply": "2022-08-09T14:24:33.730199Z"
    },
    "papermill": {
     "duration": 0.25381,
     "end_time": "2022-08-09T14:24:33.734075",
     "exception": false,
     "start_time": "2022-08-09T14:24:33.480265",
     "status": "completed"
    },
    "tags": []
   },
   "outputs": [
    {
     "data": {
      "text/plain": [
       "<AxesSubplot:xlabel='Parch', ylabel='count'>"
      ]
     },
     "execution_count": 11,
     "metadata": {},
     "output_type": "execute_result"
    },
    {
     "data": {
      "image/png": "[encoded data removed]",
      "text/plain": [
       "<Figure size 432x288 with 1 Axes>"
      ]
     },
     "metadata": {},
     "output_type": "display_data"
    }
   ],
   "source": [
    "sns.countplot(train['Parch'])"
   ]
  },
  {
   "cell_type": "code",
   "execution_count": 12,
   "id": "7f468b50",
   "metadata": {
    "execution": {
     "iopub.execute_input": "2022-08-09T14:24:33.752324Z",
     "iopub.status.busy": "2022-08-09T14:24:33.751917Z",
     "iopub.status.idle": "2022-08-09T14:24:33.955390Z",
     "shell.execute_reply": "2022-08-09T14:24:33.954066Z"
    },
    "papermill": {
     "duration": 0.215811,
     "end_time": "2022-08-09T14:24:33.958111",
     "exception": false,
     "start_time": "2022-08-09T14:24:33.742300",
     "status": "completed"
    },
    "tags": []
   },
   "outputs": [
    {
     "data": {
      "text/plain": [
       "<AxesSubplot:xlabel='Embarked', ylabel='count'>"
      ]
     },
     "execution_count": 12,
     "metadata": {},
     "output_type": "execute_result"
    },
    {
     "data": {
      "image/png": "[encoded data removed]",
      "text/plain": [
       "<Figure size 432x288 with 1 Axes>"
      ]
     },
     "metadata": {},
     "output_type": "display_data"
    }
   ],
   "source": [
    "sns.countplot(train['Embarked'])"
   ]
  },
  {
   "cell_type": "markdown",
   "id": "35231992",
   "metadata": {
    "papermill": {
     "duration": 0.008034,
     "end_time": "2022-08-09T14:24:33.974574",
     "exception": false,
     "start_time": "2022-08-09T14:24:33.966540",
     "status": "completed"
    },
    "tags": []
   },
   "source": [
    "### Feature Engineering:"
   ]
  },
  {
   "cell_type": "code",
   "execution_count": 13,
   "id": "8fad990b",
   "metadata": {
    "execution": {
     "iopub.execute_input": "2022-08-09T14:24:33.994380Z",
     "iopub.status.busy": "2022-08-09T14:24:33.993874Z",
     "iopub.status.idle": "2022-08-09T14:24:34.007407Z",
     "shell.execute_reply": "2022-08-09T14:24:34.006438Z"
    },
    "papermill": {
     "duration": 0.026769,
     "end_time": "2022-08-09T14:24:34.009744",
     "exception": false,
     "start_time": "2022-08-09T14:24:33.982975",
     "status": "completed"
    },
    "tags": []
   },
   "outputs": [],
   "source": [
    "# Dropping useless columns such as PassengerId, Name & Ticket\n",
    "# Dropping the Cabin Column because it contains very high number of null values\n",
    "# Filling the null values in the Age column with it's mean\n",
    "# Filling the null values in the Embarked column with it's mode\n",
    "# Changing the values of Age column where age is less than 1\n",
    "# Based on counts, I have combined 'Parch' & 'SibSp'\n",
    "\n",
    "train = train.drop(['PassengerId','Cabin','Name','Ticket'], axis = 1)\n",
    "train['Age'] = train['Age'].fillna(train['Age'].mean())\n",
    "train['Embarked'] = train['Embarked'].fillna(train['Embarked'].mode()[0])\n",
    "train['Age'] = np.where(train['Age'] < 1, 1, train['Age'])\n",
    "train['Parch'] = np.where(train['Parch'] > 2, '3+', train['Parch'])\n",
    "train['SibSp'] = np.where(train['SibSp'] > 1, '2+', train['SibSp'])"
   ]
  },
  {
   "cell_type": "code",
   "execution_count": 14,
   "id": "15daf6a3",
   "metadata": {
    "execution": {
     "iopub.execute_input": "2022-08-09T14:24:34.028351Z",
     "iopub.status.busy": "2022-08-09T14:24:34.027929Z",
     "iopub.status.idle": "2022-08-09T14:24:34.039311Z",
     "shell.execute_reply": "2022-08-09T14:24:34.038040Z"
    },
    "papermill": {
     "duration": 0.023809,
     "end_time": "2022-08-09T14:24:34.042111",
     "exception": false,
     "start_time": "2022-08-09T14:24:34.018302",
     "status": "completed"
    },
    "tags": []
   },
   "outputs": [],
   "source": [
    "# Replaing Categorical variables to numbers\n",
    "train.Sex.replace('male', 0, inplace = True)\n",
    "train.Sex.replace('female', 1, inplace = True)\n",
    "\n",
    "train.Embarked.replace('S', 0, inplace = True)\n",
    "train.Embarked.replace('C', 1, inplace = True)\n",
    "train.Embarked.replace('Q', 2, inplace = True)"
   ]
  },
  {
   "cell_type": "markdown",
   "id": "7336e2cc",
   "metadata": {
    "papermill": {
     "duration": 0.008133,
     "end_time": "2022-08-09T14:24:34.058842",
     "exception": false,
     "start_time": "2022-08-09T14:24:34.050709",
     "status": "completed"
    },
    "tags": []
   },
   "source": [
    "### Applying the same transformation to test dataset:"
   ]
  },
  {
   "cell_type": "code",
   "execution_count": 15,
   "id": "6e22ca18",
   "metadata": {
    "execution": {
     "iopub.execute_input": "2022-08-09T14:24:34.077577Z",
     "iopub.status.busy": "2022-08-09T14:24:34.077153Z",
     "iopub.status.idle": "2022-08-09T14:24:34.094349Z",
     "shell.execute_reply": "2022-08-09T14:24:34.093386Z"
    },
    "papermill": {
     "duration": 0.029768,
     "end_time": "2022-08-09T14:24:34.097056",
     "exception": false,
     "start_time": "2022-08-09T14:24:34.067288",
     "status": "completed"
    },
    "tags": []
   },
   "outputs": [],
   "source": [
    "test = test.drop(['PassengerId','Cabin','Name','Ticket'], axis = 1)\n",
    "test['Age'] = test['Age'].fillna(test['Age'].mean())\n",
    "\n",
    "#Here one value in Fare was missing.\n",
    "test['Fare'] = test['Fare'].fillna(test['Fare'].mean())\n",
    "\n",
    "test['Embarked'] = test['Embarked'].fillna(test['Embarked'].mode()[0])\n",
    "test['Age'] = np.where(test['Age'] < 1, 1, test['Age'])\n",
    "test['Parch'] = np.where(test['Parch'] > 2, '3+', test['Parch'])\n",
    "test['SibSp'] = np.where(test['SibSp'] > 1, '2+', test['SibSp'])\n",
    "\n",
    "test.Sex.replace('male', 0, inplace = True)\n",
    "test.Sex.replace('female', 1, inplace = True)\n",
    "\n",
    "test.Embarked.replace('S', 0, inplace = True)\n",
    "test.Embarked.replace('C', 1, inplace = True)\n",
    "test.Embarked.replace('Q', 2, inplace = True)"
   ]
  },
  {
   "cell_type": "markdown",
   "id": "2ea6c7ee",
   "metadata": {
    "papermill": {
     "duration": 0.008101,
     "end_time": "2022-08-09T14:24:34.113576",
     "exception": false,
     "start_time": "2022-08-09T14:24:34.105475",
     "status": "completed"
    },
    "tags": []
   },
   "source": [
    "### Random Forest Classification:"
   ]
  },
  {
   "cell_type": "code",
   "execution_count": 16,
   "id": "df36b802",
   "metadata": {
    "execution": {
     "iopub.execute_input": "2022-08-09T14:24:34.132892Z",
     "iopub.status.busy": "2022-08-09T14:24:34.131544Z",
     "iopub.status.idle": "2022-08-09T14:24:34.327909Z",
     "shell.execute_reply": "2022-08-09T14:24:34.326624Z"
    },
    "papermill": {
     "duration": 0.208712,
     "end_time": "2022-08-09T14:24:34.330580",
     "exception": false,
     "start_time": "2022-08-09T14:24:34.121868",
     "status": "completed"
    },
    "tags": []
   },
   "outputs": [
    {
     "data": {
      "text/plain": [
       "RandomForestClassifier(max_depth=5, random_state=1)"
      ]
     },
     "execution_count": 16,
     "metadata": {},
     "output_type": "execute_result"
    }
   ],
   "source": [
    "y = train[\"Survived\"]\n",
    "\n",
    "features = [\"Pclass\", \"Sex\", \"SibSp\", \"Parch\", \"Age\", \"Fare\", \"Embarked\"]\n",
    "x = pd.get_dummies(train[features])\n",
    "x_test = pd.get_dummies(test[features])\n",
    "\n",
    "model = RandomForestClassifier(n_estimators=100, max_depth=5, random_state=1)\n",
    "model.fit(x, y)"
   ]
  },
  {
   "cell_type": "code",
   "execution_count": 17,
   "id": "3a1cead9",
   "metadata": {
    "execution": {
     "iopub.execute_input": "2022-08-09T14:24:34.349789Z",
     "iopub.status.busy": "2022-08-09T14:24:34.348937Z",
     "iopub.status.idle": "2022-08-09T14:24:34.379245Z",
     "shell.execute_reply": "2022-08-09T14:24:34.378013Z"
    },
    "papermill": {
     "duration": 0.043001,
     "end_time": "2022-08-09T14:24:34.382058",
     "exception": false,
     "start_time": "2022-08-09T14:24:34.339057",
     "status": "completed"
    },
    "tags": []
   },
   "outputs": [
    {
     "data": {
      "text/plain": [
       "array([0, 0, 0, 0, 0, 0, 1, 0, 1, 0, 0, 0, 1, 0, 1, 1, 0, 0, 0, 1, 0, 0,\n",
       "       1, 0, 1, 0, 1, 0, 0, 0, 0, 0, 0, 0, 1, 0, 0, 0, 0, 0, 0, 0, 0, 1,\n",
       "       1, 0, 0, 0, 1, 1, 0, 0, 1, 1, 0, 0, 0, 0, 0, 1, 0, 0, 0, 1, 0, 1,\n",
       "       1, 0, 0, 1, 1, 0, 0, 0, 1, 0, 0, 1, 0, 1, 1, 0, 0, 0, 0, 0, 1, 0,\n",
       "       1, 1, 0, 0, 1, 0, 0, 0, 1, 0, 0, 0, 1, 0, 0, 0, 1, 0, 0, 0, 0, 0,\n",
       "       0, 1, 1, 1, 1, 0, 0, 1, 0, 1, 1, 0, 1, 0, 0, 1, 0, 1, 0, 0, 0, 0,\n",
       "       0, 0, 0, 0, 0, 0, 0, 0, 0, 1, 0, 0, 0, 0, 0, 0, 0, 0, 1, 0, 0, 1,\n",
       "       0, 0, 1, 0, 0, 1, 1, 1, 1, 0, 0, 0, 0, 0, 1, 0, 0, 0, 0, 0, 0, 1,\n",
       "       1, 1, 1, 1, 0, 0, 1, 0, 1, 0, 1, 0, 0, 0, 0, 0, 0, 0, 1, 0, 1, 0,\n",
       "       0, 0, 1, 1, 1, 1, 0, 0, 1, 0, 1, 0, 0, 0, 0, 1, 0, 0, 1, 0, 1, 0,\n",
       "       1, 0, 1, 0, 1, 1, 0, 1, 0, 0, 0, 1, 0, 0, 0, 0, 0, 0, 1, 1, 1, 1,\n",
       "       0, 0, 0, 0, 1, 0, 1, 1, 1, 0, 1, 0, 0, 0, 0, 0, 1, 0, 0, 0, 1, 1,\n",
       "       0, 0, 0, 0, 0, 0, 0, 0, 1, 1, 0, 1, 0, 0, 0, 0, 0, 1, 1, 1, 1, 0,\n",
       "       0, 0, 0, 0, 0, 1, 0, 0, 0, 0, 1, 0, 0, 0, 0, 0, 0, 0, 1, 1, 1, 1,\n",
       "       0, 0, 0, 0, 0, 1, 1, 1, 1, 0, 0, 0, 0, 0, 0, 0, 1, 0, 1, 0, 0, 0,\n",
       "       1, 0, 0, 1, 0, 0, 0, 0, 0, 0, 0, 0, 0, 1, 0, 1, 0, 1, 0, 1, 1, 0,\n",
       "       0, 0, 1, 0, 1, 0, 0, 0, 0, 1, 1, 0, 1, 0, 0, 0, 1, 0, 0, 1, 0, 0,\n",
       "       1, 1, 0, 0, 0, 0, 0, 0, 0, 0, 0, 1, 0, 0, 0, 0, 0, 1, 0, 0, 0, 1,\n",
       "       0, 1, 0, 0, 1, 0, 1, 0, 0, 0, 0, 0, 1, 1, 1, 1, 0, 0, 1, 0, 0, 0])"
      ]
     },
     "execution_count": 17,
     "metadata": {},
     "output_type": "execute_result"
    }
   ],
   "source": [
    "y_pred = model.predict(x_test)\n",
    "y_pred"
   ]
  }
 ],
 "metadata": {
  "kernelspec": {
   "display_name": "Python 3",
   "language": "python",
   "name": "python3"
  },
  "language_info": {
   "codemirror_mode": {
    "name": "ipython",
    "version": 3
   },
   "file_extension": ".py",
   "mimetype": "text/x-python",
   "name": "python",
   "nbconvert_exporter": "python",
   "pygments_lexer": "ipython3",
   "version": "3.7.12"
  },
  "papermill": {
   "default_parameters": {},
   "duration": 16.69663,
   "end_time": "2022-08-09T14:24:37.076772",
   "environment_variables": {},
   "exception": null,
   "input_path": "__notebook__.ipynb",
   "output_path": "__notebook__.ipynb",
   "parameters": {},
   "start_time": "2022-08-09T14:24:20.380142",
   "version": "2.3.4"
  }
 },
 "nbformat": 4,
 "nbformat_minor": 5
}
