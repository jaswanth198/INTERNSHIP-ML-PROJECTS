{
 "cells": [
  {
   "cell_type": "code",
   "execution_count": 1,
   "id": "91226d9e",
   "metadata": {
    "_cell_guid": "b1076dfc-b9ad-4769-8c92-a6c4dae69d19",
    "_uuid": "8f2839f25d086af736a60e9eeb907d3b93b6e0e5",
    "execution": {
     "iopub.execute_input": "2022-08-23T04:44:17.417064Z",
     "iopub.status.busy": "2022-08-23T04:44:17.416500Z",
     "iopub.status.idle": "2022-08-23T04:44:17.436320Z",
     "shell.execute_reply": "2022-08-23T04:44:17.435119Z"
    },
    "papermill": {
     "duration": 0.036485,
     "end_time": "2022-08-23T04:44:17.439241",
     "exception": false,
     "start_time": "2022-08-23T04:44:17.402756",
     "status": "completed"
    },
    "tags": []
   },
   "outputs": [
    {
     "name": "stdout",
     "output_type": "stream",
     "text": [
      "/kaggle/input/phonesonamazon/amazon 1.xlsx\n"
     ]
    }
   ],
   "source": [
    "# This Python 3 environment comes with many helpful analytics libraries installed\n",
    "# It is defined by the kaggle/python Docker image: https://github.com/kaggle/docker-python\n",
    "# For example, here's several helpful packages to load\n",
    "\n",
    "import numpy as np # linear algebra\n",
    "import pandas as pd # data processing, CSV file I/O (e.g. pd.read_csv)\n",
    "\n",
    "# Input data files are available in the read-only \"../input/\" directory\n",
    "# For example, running this (by clicking run or pressing Shift+Enter) will list all files under the input directory\n",
    "\n",
    "import os\n",
    "for dirname, _, filenames in os.walk('/kaggle/input'):\n",
    "    for filename in filenames:\n",
    "        print(os.path.join(dirname, filename))\n",
    "\n",
    "# You can write up to 20GB to the current directory (/kaggle/working/) that gets preserved as output when you create a version using \"Save & Run All\" \n",
    "# You can also write temporary files to /kaggle/temp/, but they won't be saved outside of the current session"
   ]
  },
  {
   "cell_type": "code",
   "execution_count": 2,
   "id": "e61311da",
   "metadata": {
    "execution": {
     "iopub.execute_input": "2022-08-23T04:44:17.460438Z",
     "iopub.status.busy": "2022-08-23T04:44:17.459637Z",
     "iopub.status.idle": "2022-08-23T04:44:31.798892Z",
     "shell.execute_reply": "2022-08-23T04:44:31.797303Z"
    },
    "papermill": {
     "duration": 14.353062,
     "end_time": "2022-08-23T04:44:31.801854",
     "exception": false,
     "start_time": "2022-08-23T04:44:17.448792",
     "status": "completed"
    },
    "tags": []
   },
   "outputs": [
    {
     "name": "stdout",
     "output_type": "stream",
     "text": [
      "Collecting openpyxl\r\n",
      "  Downloading openpyxl-3.0.10-py2.py3-none-any.whl (242 kB)\r\n",
      "\u001b[2K     \u001b[90m━━━━━━━━━━━━━━━━━━━━━━━━━━━━━━━━━━━━━━━\u001b[0m \u001b[32m242.1/242.1 kB\u001b[0m \u001b[31m1.1 MB/s\u001b[0m eta \u001b[36m0:00:00\u001b[0m\r\n",
      "\u001b[?25hCollecting et-xmlfile\r\n",
      "  Downloading et_xmlfile-1.1.0-py3-none-any.whl (4.7 kB)\r\n",
      "Installing collected packages: et-xmlfile, openpyxl\r\n",
      "Successfully installed et-xmlfile-1.1.0 openpyxl-3.0.10\r\n",
      "\u001b[33mWARNING: Running pip as the 'root' user can result in broken permissions and conflicting behaviour with the system package manager. It is recommended to use a virtual environment instead: https://pip.pypa.io/warnings/venv\u001b[0m\u001b[33m\r\n",
      "\u001b[0m"
     ]
    }
   ],
   "source": [
    "!pip install openpyxl"
   ]
  },
  {
   "cell_type": "code",
   "execution_count": 3,
   "id": "dc4b30e7",
   "metadata": {
    "execution": {
     "iopub.execute_input": "2022-08-23T04:44:31.824472Z",
     "iopub.status.busy": "2022-08-23T04:44:31.823991Z",
     "iopub.status.idle": "2022-08-23T04:44:33.269183Z",
     "shell.execute_reply": "2022-08-23T04:44:33.267781Z"
    },
    "papermill": {
     "duration": 1.460153,
     "end_time": "2022-08-23T04:44:33.272165",
     "exception": false,
     "start_time": "2022-08-23T04:44:31.812012",
     "status": "completed"
    },
    "tags": []
   },
   "outputs": [],
   "source": [
    "# importing important libraries\n",
    "import pandas as pd\n",
    "import numpy as np\n",
    "import seaborn as sns\n",
    "import matplotlib.pyplot as plt\n",
    "import openpyxl\n",
    "%matplotlib inline"
   ]
  },
  {
   "cell_type": "code",
   "execution_count": 4,
   "id": "7ce9e085",
   "metadata": {
    "execution": {
     "iopub.execute_input": "2022-08-23T04:44:33.294249Z",
     "iopub.status.busy": "2022-08-23T04:44:33.293147Z",
     "iopub.status.idle": "2022-08-23T04:44:33.377189Z",
     "shell.execute_reply": "2022-08-23T04:44:33.376286Z"
    },
    "papermill": {
     "duration": 0.097836,
     "end_time": "2022-08-23T04:44:33.379837",
     "exception": false,
     "start_time": "2022-08-23T04:44:33.282001",
     "status": "completed"
    },
    "tags": []
   },
   "outputs": [],
   "source": [
    "df = pd.read_excel(\"/kaggle/input/phonesonamazon/amazon 1.xlsx\")"
   ]
  },
  {
   "cell_type": "code",
   "execution_count": 5,
   "id": "cda2e75d",
   "metadata": {
    "execution": {
     "iopub.execute_input": "2022-08-23T04:44:33.402373Z",
     "iopub.status.busy": "2022-08-23T04:44:33.401948Z",
     "iopub.status.idle": "2022-08-23T04:44:33.411117Z",
     "shell.execute_reply": "2022-08-23T04:44:33.409997Z"
    },
    "papermill": {
     "duration": 0.023722,
     "end_time": "2022-08-23T04:44:33.413488",
     "exception": false,
     "start_time": "2022-08-23T04:44:33.389766",
     "status": "completed"
    },
    "tags": []
   },
   "outputs": [
    {
     "data": {
      "text/plain": [
       "(365, 8)"
      ]
     },
     "execution_count": 5,
     "metadata": {},
     "output_type": "execute_result"
    }
   ],
   "source": [
    "df.shape"
   ]
  },
  {
   "cell_type": "code",
   "execution_count": 6,
   "id": "33b13dfa",
   "metadata": {
    "execution": {
     "iopub.execute_input": "2022-08-23T04:44:33.435249Z",
     "iopub.status.busy": "2022-08-23T04:44:33.434829Z",
     "iopub.status.idle": "2022-08-23T04:44:33.464858Z",
     "shell.execute_reply": "2022-08-23T04:44:33.463610Z"
    },
    "papermill": {
     "duration": 0.044254,
     "end_time": "2022-08-23T04:44:33.467694",
     "exception": false,
     "start_time": "2022-08-23T04:44:33.423440",
     "status": "completed"
    },
    "tags": []
   },
   "outputs": [
    {
     "name": "stdout",
     "output_type": "stream",
     "text": [
      "<class 'pandas.core.frame.DataFrame'>\n",
      "RangeIndex: 365 entries, 0 to 364\n",
      "Data columns (total 8 columns):\n",
      " #   Column                  Non-Null Count  Dtype  \n",
      "---  ------                  --------------  -----  \n",
      " 0   phone_name              365 non-null    object \n",
      " 1   Unnamed: 1              0 non-null      float64\n",
      " 2   Brand                   365 non-null    object \n",
      " 3   ratting_out_of_five     334 non-null    float64\n",
      " 4   Rated_people            337 non-null    object \n",
      " 5   Offered_price_in_rupee  352 non-null    object \n",
      " 6   real_rice_in_rupee      342 non-null    float64\n",
      " 7   Percent_off             342 non-null    float64\n",
      "dtypes: float64(4), object(4)\n",
      "memory usage: 22.9+ KB\n"
     ]
    }
   ],
   "source": [
    "df.info()"
   ]
  },
  {
   "cell_type": "code",
   "execution_count": 7,
   "id": "66b33d11",
   "metadata": {
    "execution": {
     "iopub.execute_input": "2022-08-23T04:44:33.490647Z",
     "iopub.status.busy": "2022-08-23T04:44:33.489592Z",
     "iopub.status.idle": "2022-08-23T04:44:33.522924Z",
     "shell.execute_reply": "2022-08-23T04:44:33.521656Z"
    },
    "papermill": {
     "duration": 0.047515,
     "end_time": "2022-08-23T04:44:33.525444",
     "exception": false,
     "start_time": "2022-08-23T04:44:33.477929",
     "status": "completed"
    },
    "tags": []
   },
   "outputs": [
    {
     "data": {
      "text/html": [
       "<div>\n",
       "<style scoped>\n",
       "    .dataframe tbody tr th:only-of-type {\n",
       "        vertical-align: middle;\n",
       "    }\n",
       "\n",
       "    .dataframe tbody tr th {\n",
       "        vertical-align: top;\n",
       "    }\n",
       "\n",
       "    .dataframe thead th {\n",
       "        text-align: right;\n",
       "    }\n",
       "</style>\n",
       "<table border=\"1\" class=\"dataframe\">\n",
       "  <thead>\n",
       "    <tr style=\"text-align: right;\">\n",
       "      <th></th>\n",
       "      <th>Unnamed: 1</th>\n",
       "      <th>ratting_out_of_five</th>\n",
       "      <th>real_rice_in_rupee</th>\n",
       "      <th>Percent_off</th>\n",
       "    </tr>\n",
       "  </thead>\n",
       "  <tbody>\n",
       "    <tr>\n",
       "      <th>count</th>\n",
       "      <td>0.0</td>\n",
       "      <td>334.000000</td>\n",
       "      <td>342.000000</td>\n",
       "      <td>342.000000</td>\n",
       "    </tr>\n",
       "    <tr>\n",
       "      <th>mean</th>\n",
       "      <td>NaN</td>\n",
       "      <td>3.885928</td>\n",
       "      <td>18079.730994</td>\n",
       "      <td>22.315789</td>\n",
       "    </tr>\n",
       "    <tr>\n",
       "      <th>std</th>\n",
       "      <td>NaN</td>\n",
       "      <td>0.627220</td>\n",
       "      <td>13747.094069</td>\n",
       "      <td>9.850182</td>\n",
       "    </tr>\n",
       "    <tr>\n",
       "      <th>min</th>\n",
       "      <td>NaN</td>\n",
       "      <td>1.000000</td>\n",
       "      <td>1399.000000</td>\n",
       "      <td>6.000000</td>\n",
       "    </tr>\n",
       "    <tr>\n",
       "      <th>25%</th>\n",
       "      <td>NaN</td>\n",
       "      <td>3.700000</td>\n",
       "      <td>9999.000000</td>\n",
       "      <td>15.000000</td>\n",
       "    </tr>\n",
       "    <tr>\n",
       "      <th>50%</th>\n",
       "      <td>NaN</td>\n",
       "      <td>4.100000</td>\n",
       "      <td>14999.000000</td>\n",
       "      <td>21.000000</td>\n",
       "    </tr>\n",
       "    <tr>\n",
       "      <th>75%</th>\n",
       "      <td>NaN</td>\n",
       "      <td>4.200000</td>\n",
       "      <td>20990.000000</td>\n",
       "      <td>27.750000</td>\n",
       "    </tr>\n",
       "    <tr>\n",
       "      <th>max</th>\n",
       "      <td>NaN</td>\n",
       "      <td>5.000000</td>\n",
       "      <td>89999.000000</td>\n",
       "      <td>79.000000</td>\n",
       "    </tr>\n",
       "  </tbody>\n",
       "</table>\n",
       "</div>"
      ],
      "text/plain": [
       "       Unnamed: 1  ratting_out_of_five  real_rice_in_rupee  Percent_off\n",
       "count         0.0           334.000000          342.000000   342.000000\n",
       "mean          NaN             3.885928        18079.730994    22.315789\n",
       "std           NaN             0.627220        13747.094069     9.850182\n",
       "min           NaN             1.000000         1399.000000     6.000000\n",
       "25%           NaN             3.700000         9999.000000    15.000000\n",
       "50%           NaN             4.100000        14999.000000    21.000000\n",
       "75%           NaN             4.200000        20990.000000    27.750000\n",
       "max           NaN             5.000000        89999.000000    79.000000"
      ]
     },
     "execution_count": 7,
     "metadata": {},
     "output_type": "execute_result"
    }
   ],
   "source": [
    "df.describe()"
   ]
  },
  {
   "cell_type": "code",
   "execution_count": 8,
   "id": "5e6eb7f4",
   "metadata": {
    "execution": {
     "iopub.execute_input": "2022-08-23T04:44:33.548505Z",
     "iopub.status.busy": "2022-08-23T04:44:33.547788Z",
     "iopub.status.idle": "2022-08-23T04:44:33.554345Z",
     "shell.execute_reply": "2022-08-23T04:44:33.553318Z"
    },
    "papermill": {
     "duration": 0.020873,
     "end_time": "2022-08-23T04:44:33.556708",
     "exception": false,
     "start_time": "2022-08-23T04:44:33.535835",
     "status": "completed"
    },
    "tags": []
   },
   "outputs": [],
   "source": [
    "df.drop(columns=[\"Unnamed: 1\"],inplace=True)"
   ]
  },
  {
   "cell_type": "code",
   "execution_count": 9,
   "id": "0ed9aa9a",
   "metadata": {
    "execution": {
     "iopub.execute_input": "2022-08-23T04:44:33.579413Z",
     "iopub.status.busy": "2022-08-23T04:44:33.578752Z",
     "iopub.status.idle": "2022-08-23T04:44:33.587044Z",
     "shell.execute_reply": "2022-08-23T04:44:33.586086Z"
    },
    "papermill": {
     "duration": 0.022573,
     "end_time": "2022-08-23T04:44:33.589568",
     "exception": false,
     "start_time": "2022-08-23T04:44:33.566995",
     "status": "completed"
    },
    "tags": []
   },
   "outputs": [],
   "source": [
    "df.dropna(inplace=True)"
   ]
  },
  {
   "cell_type": "code",
   "execution_count": 10,
   "id": "103f7b62",
   "metadata": {
    "execution": {
     "iopub.execute_input": "2022-08-23T04:44:33.613051Z",
     "iopub.status.busy": "2022-08-23T04:44:33.612260Z",
     "iopub.status.idle": "2022-08-23T04:44:33.622387Z",
     "shell.execute_reply": "2022-08-23T04:44:33.621364Z"
    },
    "papermill": {
     "duration": 0.024196,
     "end_time": "2022-08-23T04:44:33.624601",
     "exception": false,
     "start_time": "2022-08-23T04:44:33.600405",
     "status": "completed"
    },
    "tags": []
   },
   "outputs": [
    {
     "data": {
      "text/plain": [
       "phone_name                0\n",
       "Brand                     0\n",
       "ratting_out_of_five       0\n",
       "Rated_people              0\n",
       "Offered_price_in_rupee    0\n",
       "real_rice_in_rupee        0\n",
       "Percent_off               0\n",
       "dtype: int64"
      ]
     },
     "execution_count": 10,
     "metadata": {},
     "output_type": "execute_result"
    }
   ],
   "source": [
    "df.isnull().sum()"
   ]
  },
  {
   "cell_type": "code",
   "execution_count": 11,
   "id": "602cdd43",
   "metadata": {
    "execution": {
     "iopub.execute_input": "2022-08-23T04:44:33.647872Z",
     "iopub.status.busy": "2022-08-23T04:44:33.646917Z",
     "iopub.status.idle": "2022-08-23T04:44:33.657785Z",
     "shell.execute_reply": "2022-08-23T04:44:33.656451Z"
    },
    "papermill": {
     "duration": 0.024843,
     "end_time": "2022-08-23T04:44:33.660208",
     "exception": false,
     "start_time": "2022-08-23T04:44:33.635365",
     "status": "completed"
    },
    "tags": []
   },
   "outputs": [],
   "source": [
    "df.drop_duplicates(inplace=True)"
   ]
  },
  {
   "cell_type": "code",
   "execution_count": 12,
   "id": "31595578",
   "metadata": {
    "execution": {
     "iopub.execute_input": "2022-08-23T04:44:33.683009Z",
     "iopub.status.busy": "2022-08-23T04:44:33.682294Z",
     "iopub.status.idle": "2022-08-23T04:44:33.696450Z",
     "shell.execute_reply": "2022-08-23T04:44:33.695189Z"
    },
    "papermill": {
     "duration": 0.029654,
     "end_time": "2022-08-23T04:44:33.700214",
     "exception": false,
     "start_time": "2022-08-23T04:44:33.670560",
     "status": "completed"
    },
    "tags": []
   },
   "outputs": [
    {
     "name": "stdout",
     "output_type": "stream",
     "text": [
      "<class 'pandas.core.frame.DataFrame'>\n",
      "Int64Index: 274 entries, 0 to 364\n",
      "Data columns (total 7 columns):\n",
      " #   Column                  Non-Null Count  Dtype  \n",
      "---  ------                  --------------  -----  \n",
      " 0   phone_name              274 non-null    object \n",
      " 1   Brand                   274 non-null    object \n",
      " 2   ratting_out_of_five     274 non-null    float64\n",
      " 3   Rated_people            274 non-null    object \n",
      " 4   Offered_price_in_rupee  274 non-null    object \n",
      " 5   real_rice_in_rupee      274 non-null    float64\n",
      " 6   Percent_off             274 non-null    float64\n",
      "dtypes: float64(3), object(4)\n",
      "memory usage: 17.1+ KB\n"
     ]
    }
   ],
   "source": [
    "df.info()"
   ]
  },
  {
   "cell_type": "code",
   "execution_count": 13,
   "id": "6651f060",
   "metadata": {
    "execution": {
     "iopub.execute_input": "2022-08-23T04:44:33.723581Z",
     "iopub.status.busy": "2022-08-23T04:44:33.723168Z",
     "iopub.status.idle": "2022-08-23T04:44:33.729049Z",
     "shell.execute_reply": "2022-08-23T04:44:33.727835Z"
    },
    "papermill": {
     "duration": 0.020461,
     "end_time": "2022-08-23T04:44:33.731491",
     "exception": false,
     "start_time": "2022-08-23T04:44:33.711030",
     "status": "completed"
    },
    "tags": []
   },
   "outputs": [],
   "source": [
    "def d_t_changer(data):\n",
    "    rdata =\"\"\n",
    "    for i in data:\n",
    "        if i.isdigit() ==True:\n",
    "            rdata += i\n",
    "        else:\n",
    "            pass\n",
    "    return rdata\n",
    "            "
   ]
  },
  {
   "cell_type": "code",
   "execution_count": 14,
   "id": "17263d5c",
   "metadata": {
    "execution": {
     "iopub.execute_input": "2022-08-23T04:44:33.754740Z",
     "iopub.status.busy": "2022-08-23T04:44:33.754322Z",
     "iopub.status.idle": "2022-08-23T04:44:33.761926Z",
     "shell.execute_reply": "2022-08-23T04:44:33.760636Z"
    },
    "papermill": {
     "duration": 0.022038,
     "end_time": "2022-08-23T04:44:33.764191",
     "exception": false,
     "start_time": "2022-08-23T04:44:33.742153",
     "status": "completed"
    },
    "tags": []
   },
   "outputs": [],
   "source": [
    "df[\"Rated_people\"] =df[\"Rated_people\"].apply(d_t_changer)\n",
    "df[\"Offered_price_in_rupee\"] =df[\"Offered_price_in_rupee\"].apply(d_t_changer)"
   ]
  },
  {
   "cell_type": "code",
   "execution_count": 15,
   "id": "75f6861e",
   "metadata": {
    "execution": {
     "iopub.execute_input": "2022-08-23T04:44:33.787296Z",
     "iopub.status.busy": "2022-08-23T04:44:33.786882Z",
     "iopub.status.idle": "2022-08-23T04:44:33.794770Z",
     "shell.execute_reply": "2022-08-23T04:44:33.793730Z"
    },
    "papermill": {
     "duration": 0.022381,
     "end_time": "2022-08-23T04:44:33.797175",
     "exception": false,
     "start_time": "2022-08-23T04:44:33.774794",
     "status": "completed"
    },
    "tags": []
   },
   "outputs": [],
   "source": [
    "\n",
    "df[\"real_rice_in_rupee\"] =df[\"real_rice_in_rupee\"].astype(\"int\")\n",
    "df[\"Percent_off\"] =df[\"Percent_off\"].astype(\"int\")\n",
    "df[\"Rated_people\"] =df[\"Rated_people\"].astype(\"int\")\n",
    "df[\"Offered_price_in_rupee\"] =df[\"Offered_price_in_rupee\"].astype(\"int\")"
   ]
  },
  {
   "cell_type": "code",
   "execution_count": 16,
   "id": "113f0d45",
   "metadata": {
    "execution": {
     "iopub.execute_input": "2022-08-23T04:44:33.820192Z",
     "iopub.status.busy": "2022-08-23T04:44:33.819825Z",
     "iopub.status.idle": "2022-08-23T04:44:33.834074Z",
     "shell.execute_reply": "2022-08-23T04:44:33.832713Z"
    },
    "papermill": {
     "duration": 0.028558,
     "end_time": "2022-08-23T04:44:33.836426",
     "exception": false,
     "start_time": "2022-08-23T04:44:33.807868",
     "status": "completed"
    },
    "tags": []
   },
   "outputs": [
    {
     "name": "stdout",
     "output_type": "stream",
     "text": [
      "<class 'pandas.core.frame.DataFrame'>\n",
      "Int64Index: 274 entries, 0 to 364\n",
      "Data columns (total 7 columns):\n",
      " #   Column                  Non-Null Count  Dtype  \n",
      "---  ------                  --------------  -----  \n",
      " 0   phone_name              274 non-null    object \n",
      " 1   Brand                   274 non-null    object \n",
      " 2   ratting_out_of_five     274 non-null    float64\n",
      " 3   Rated_people            274 non-null    int64  \n",
      " 4   Offered_price_in_rupee  274 non-null    int64  \n",
      " 5   real_rice_in_rupee      274 non-null    int64  \n",
      " 6   Percent_off             274 non-null    int64  \n",
      "dtypes: float64(1), int64(4), object(2)\n",
      "memory usage: 17.1+ KB\n"
     ]
    }
   ],
   "source": [
    "df.info()"
   ]
  },
  {
   "cell_type": "code",
   "execution_count": 17,
   "id": "939965d8",
   "metadata": {
    "execution": {
     "iopub.execute_input": "2022-08-23T04:44:33.859293Z",
     "iopub.status.busy": "2022-08-23T04:44:33.858853Z",
     "iopub.status.idle": "2022-08-23T04:44:34.161546Z",
     "shell.execute_reply": "2022-08-23T04:44:34.160252Z"
    },
    "papermill": {
     "duration": 0.317063,
     "end_time": "2022-08-23T04:44:34.164135",
     "exception": false,
     "start_time": "2022-08-23T04:44:33.847072",
     "status": "completed"
    },
    "tags": []
   },
   "outputs": [
    {
     "data": {
      "text/plain": [
       "<AxesSubplot:xlabel='Offered_price_in_rupee', ylabel='Count'>"
      ]
     },
     "execution_count": 17,
     "metadata": {},
     "output_type": "execute_result"
    },
    {
     "data": {
      "image/png": "[encoded data removed]",
      "text/plain": [
       "<Figure size 432x288 with 1 Axes>"
      ]
     },
     "metadata": {
      "needs_background": "light"
     },
     "output_type": "display_data"
    }
   ],
   "source": [
    "sns.histplot(df[\"Offered_price_in_rupee\"],kde=True)"
   ]
  },
  {
   "cell_type": "code",
   "execution_count": 18,
   "id": "b2315112",
   "metadata": {
    "execution": {
     "iopub.execute_input": "2022-08-23T04:44:34.188359Z",
     "iopub.status.busy": "2022-08-23T04:44:34.187576Z",
     "iopub.status.idle": "2022-08-23T04:44:34.195168Z",
     "shell.execute_reply": "2022-08-23T04:44:34.193844Z"
    },
    "papermill": {
     "duration": 0.022303,
     "end_time": "2022-08-23T04:44:34.197598",
     "exception": false,
     "start_time": "2022-08-23T04:44:34.175295",
     "status": "completed"
    },
    "tags": []
   },
   "outputs": [
    {
     "data": {
      "text/plain": [
       "2.665359984665317"
      ]
     },
     "execution_count": 18,
     "metadata": {},
     "output_type": "execute_result"
    }
   ],
   "source": [
    "df[\"Offered_price_in_rupee\"].skew()"
   ]
  },
  {
   "cell_type": "code",
   "execution_count": 19,
   "id": "0ad75b38",
   "metadata": {
    "execution": {
     "iopub.execute_input": "2022-08-23T04:44:34.221820Z",
     "iopub.status.busy": "2022-08-23T04:44:34.221404Z",
     "iopub.status.idle": "2022-08-23T04:44:34.229364Z",
     "shell.execute_reply": "2022-08-23T04:44:34.228069Z"
    },
    "papermill": {
     "duration": 0.022875,
     "end_time": "2022-08-23T04:44:34.231846",
     "exception": false,
     "start_time": "2022-08-23T04:44:34.208971",
     "status": "completed"
    },
    "tags": []
   },
   "outputs": [
    {
     "data": {
      "text/plain": [
       "9.759877357076284"
      ]
     },
     "execution_count": 19,
     "metadata": {},
     "output_type": "execute_result"
    }
   ],
   "source": [
    "df[\"Offered_price_in_rupee\"].kurt()"
   ]
  },
  {
   "cell_type": "code",
   "execution_count": 20,
   "id": "79da7f23",
   "metadata": {
    "execution": {
     "iopub.execute_input": "2022-08-23T04:44:34.256802Z",
     "iopub.status.busy": "2022-08-23T04:44:34.256400Z",
     "iopub.status.idle": "2022-08-23T04:44:34.260911Z",
     "shell.execute_reply": "2022-08-23T04:44:34.259909Z"
    },
    "papermill": {
     "duration": 0.019274,
     "end_time": "2022-08-23T04:44:34.262992",
     "exception": false,
     "start_time": "2022-08-23T04:44:34.243718",
     "status": "completed"
    },
    "tags": []
   },
   "outputs": [],
   "source": [
    "# some conclusions till here\n",
    "# most of the phone price lay between 50000 to 20000 rupees.\n",
    "# data is positivily skewed mean its not noraml distibution\n",
    "# for normal distibution kart() is -7 to 7 and skew is -2 to 2 and in this case skew=2.66 and kurt=9.5 hance \n",
    "# data is not lay in normal distibution"
   ]
  },
  {
   "cell_type": "code",
   "execution_count": 21,
   "id": "a9ce5b9b",
   "metadata": {
    "execution": {
     "iopub.execute_input": "2022-08-23T04:44:34.288519Z",
     "iopub.status.busy": "2022-08-23T04:44:34.288123Z",
     "iopub.status.idle": "2022-08-23T04:44:34.620259Z",
     "shell.execute_reply": "2022-08-23T04:44:34.618893Z"
    },
    "papermill": {
     "duration": 0.348548,
     "end_time": "2022-08-23T04:44:34.623124",
     "exception": false,
     "start_time": "2022-08-23T04:44:34.274576",
     "status": "completed"
    },
    "tags": []
   },
   "outputs": [
    {
     "data": {
      "text/plain": [
       "<AxesSubplot:>"
      ]
     },
     "execution_count": 21,
     "metadata": {},
     "output_type": "execute_result"
    },
    {
     "data": {
      "image/png": "[encoded data removed]",
      "text/plain": [
       "<Figure size 1080x360 with 2 Axes>"
      ]
     },
     "metadata": {
      "needs_background": "light"
     },
     "output_type": "display_data"
    }
   ],
   "source": [
    "fig ,axes =plt.subplots(nrows=1,ncols=2 ,figsize=(15,5))\n",
    "plt.pie(df[\"Brand\"].value_counts().head(8).values,labels=df[\"Brand\"].value_counts().head(8).index,autopct='%.2f')\n",
    "sns.barplot(ax=axes[0],x=df[\"Brand\"].value_counts().head(8).index,y=df[\"Brand\"].value_counts().head(8).values)"
   ]
  },
  {
   "cell_type": "code",
   "execution_count": 22,
   "id": "ab87cbdd",
   "metadata": {
    "execution": {
     "iopub.execute_input": "2022-08-23T04:44:34.650031Z",
     "iopub.status.busy": "2022-08-23T04:44:34.649314Z",
     "iopub.status.idle": "2022-08-23T04:44:34.653699Z",
     "shell.execute_reply": "2022-08-23T04:44:34.652623Z"
    },
    "papermill": {
     "duration": 0.02057,
     "end_time": "2022-08-23T04:44:34.656020",
     "exception": false,
     "start_time": "2022-08-23T04:44:34.635450",
     "status": "completed"
    },
    "tags": []
   },
   "outputs": [],
   "source": [
    "# as you can see here in this data 47.2% market captured by two brands samsungs and redmi"
   ]
  },
  {
   "cell_type": "code",
   "execution_count": 23,
   "id": "a37eba87",
   "metadata": {
    "execution": {
     "iopub.execute_input": "2022-08-23T04:44:34.682332Z",
     "iopub.status.busy": "2022-08-23T04:44:34.681607Z",
     "iopub.status.idle": "2022-08-23T04:44:34.688484Z",
     "shell.execute_reply": "2022-08-23T04:44:34.687599Z"
    },
    "papermill": {
     "duration": 0.022561,
     "end_time": "2022-08-23T04:44:34.690757",
     "exception": false,
     "start_time": "2022-08-23T04:44:34.668196",
     "status": "completed"
    },
    "tags": []
   },
   "outputs": [],
   "source": [
    "df1=df.loc[df['Brand'].isin(df[\"Brand\"].value_counts().head(8).index)]"
   ]
  },
  {
   "cell_type": "code",
   "execution_count": 24,
   "id": "f5588af8",
   "metadata": {
    "execution": {
     "iopub.execute_input": "2022-08-23T04:44:34.717474Z",
     "iopub.status.busy": "2022-08-23T04:44:34.717007Z",
     "iopub.status.idle": "2022-08-23T04:44:34.721137Z",
     "shell.execute_reply": "2022-08-23T04:44:34.720199Z"
    },
    "papermill": {
     "duration": 0.02028,
     "end_time": "2022-08-23T04:44:34.723112",
     "exception": false,
     "start_time": "2022-08-23T04:44:34.702832",
     "status": "completed"
    },
    "tags": []
   },
   "outputs": [],
   "source": [
    "# let's see what is the avrage prices  of the brands"
   ]
  },
  {
   "cell_type": "code",
   "execution_count": 25,
   "id": "4ca081e8",
   "metadata": {
    "execution": {
     "iopub.execute_input": "2022-08-23T04:44:34.749258Z",
     "iopub.status.busy": "2022-08-23T04:44:34.748564Z",
     "iopub.status.idle": "2022-08-23T04:44:34.758290Z",
     "shell.execute_reply": "2022-08-23T04:44:34.757298Z"
    },
    "papermill": {
     "duration": 0.025563,
     "end_time": "2022-08-23T04:44:34.760826",
     "exception": false,
     "start_time": "2022-08-23T04:44:34.735263",
     "status": "completed"
    },
    "tags": []
   },
   "outputs": [],
   "source": [
    "x=df1.groupby(\"Brand\")[\"Offered_price_in_rupee\"].mean().sort_values(ascending =False).index\n",
    "y=df1.groupby(\"Brand\")[\"Offered_price_in_rupee\"].mean().sort_values(ascending=False).values"
   ]
  },
  {
   "cell_type": "code",
   "execution_count": 26,
   "id": "8d404a34",
   "metadata": {
    "execution": {
     "iopub.execute_input": "2022-08-23T04:44:34.787159Z",
     "iopub.status.busy": "2022-08-23T04:44:34.786442Z",
     "iopub.status.idle": "2022-08-23T04:44:34.790413Z",
     "shell.execute_reply": "2022-08-23T04:44:34.789544Z"
    },
    "papermill": {
     "duration": 0.019731,
     "end_time": "2022-08-23T04:44:34.792703",
     "exception": false,
     "start_time": "2022-08-23T04:44:34.772972",
     "status": "completed"
    },
    "tags": []
   },
   "outputs": [],
   "source": [
    "# let's see which five brands phones are most expensive "
   ]
  },
  {
   "cell_type": "code",
   "execution_count": 27,
   "id": "66a5e06f",
   "metadata": {
    "execution": {
     "iopub.execute_input": "2022-08-23T04:44:34.818435Z",
     "iopub.status.busy": "2022-08-23T04:44:34.817973Z",
     "iopub.status.idle": "2022-08-23T04:44:35.015203Z",
     "shell.execute_reply": "2022-08-23T04:44:35.013936Z"
    },
    "papermill": {
     "duration": 0.213071,
     "end_time": "2022-08-23T04:44:35.017793",
     "exception": false,
     "start_time": "2022-08-23T04:44:34.804722",
     "status": "completed"
    },
    "tags": []
   },
   "outputs": [
    {
     "name": "stderr",
     "output_type": "stream",
     "text": [
      "/opt/conda/lib/python3.7/site-packages/seaborn/_decorators.py:43: FutureWarning: Pass the following variables as keyword args: x, y. From version 0.12, the only valid positional argument will be `data`, and passing other arguments without an explicit keyword will result in an error or misinterpretation.\n",
      "  FutureWarning\n"
     ]
    },
    {
     "data": {
      "text/plain": [
       "<AxesSubplot:xlabel='Brand'>"
      ]
     },
     "execution_count": 27,
     "metadata": {},
     "output_type": "execute_result"
    },
    {
     "data": {
      "image/png": "[encoded data removed]",
      "text/plain": [
       "<Figure size 432x288 with 1 Axes>"
      ]
     },
     "metadata": {
      "needs_background": "light"
     },
     "output_type": "display_data"
    }
   ],
   "source": [
    "sns.barplot(x,y,data=df1)"
   ]
  },
  {
   "cell_type": "code",
   "execution_count": 28,
   "id": "3be4a720",
   "metadata": {
    "execution": {
     "iopub.execute_input": "2022-08-23T04:44:35.045585Z",
     "iopub.status.busy": "2022-08-23T04:44:35.044826Z",
     "iopub.status.idle": "2022-08-23T04:44:35.049261Z",
     "shell.execute_reply": "2022-08-23T04:44:35.048439Z"
    },
    "papermill": {
     "duration": 0.020333,
     "end_time": "2022-08-23T04:44:35.051262",
     "exception": false,
     "start_time": "2022-08-23T04:44:35.030929",
     "status": "completed"
    },
    "tags": []
   },
   "outputs": [],
   "source": [
    "# Here you can see iqoo avarage buying price higher then samsung and samsung buying price is higher then Redmi"
   ]
  },
  {
   "cell_type": "code",
   "execution_count": 29,
   "id": "64ac94f3",
   "metadata": {
    "execution": {
     "iopub.execute_input": "2022-08-23T04:44:35.078595Z",
     "iopub.status.busy": "2022-08-23T04:44:35.077844Z",
     "iopub.status.idle": "2022-08-23T04:44:35.086493Z",
     "shell.execute_reply": "2022-08-23T04:44:35.085076Z"
    },
    "papermill": {
     "duration": 0.025913,
     "end_time": "2022-08-23T04:44:35.089528",
     "exception": false,
     "start_time": "2022-08-23T04:44:35.063615",
     "status": "completed"
    },
    "tags": []
   },
   "outputs": [],
   "source": [
    "x=df1[\"ratting_out_of_five\"].value_counts().head(5).index\n",
    "y=df1[\"ratting_out_of_five\"].value_counts().head(5).values"
   ]
  },
  {
   "cell_type": "code",
   "execution_count": 30,
   "id": "8222ca1e",
   "metadata": {
    "execution": {
     "iopub.execute_input": "2022-08-23T04:44:35.116755Z",
     "iopub.status.busy": "2022-08-23T04:44:35.116290Z",
     "iopub.status.idle": "2022-08-23T04:44:35.285771Z",
     "shell.execute_reply": "2022-08-23T04:44:35.284899Z"
    },
    "papermill": {
     "duration": 0.185469,
     "end_time": "2022-08-23T04:44:35.287966",
     "exception": false,
     "start_time": "2022-08-23T04:44:35.102497",
     "status": "completed"
    },
    "tags": []
   },
   "outputs": [
    {
     "data": {
      "text/plain": [
       "<AxesSubplot:>"
      ]
     },
     "execution_count": 30,
     "metadata": {},
     "output_type": "execute_result"
    },
    {
     "data": {
      "image/png": "[encoded data removed]",
      "text/plain": [
       "<Figure size 432x288 with 1 Axes>"
      ]
     },
     "metadata": {
      "needs_background": "light"
     },
     "output_type": "display_data"
    }
   ],
   "source": [
    "sns.barplot(y=y,x=x)"
   ]
  },
  {
   "cell_type": "code",
   "execution_count": 31,
   "id": "8f854055",
   "metadata": {
    "execution": {
     "iopub.execute_input": "2022-08-23T04:44:35.316153Z",
     "iopub.status.busy": "2022-08-23T04:44:35.315435Z",
     "iopub.status.idle": "2022-08-23T04:44:35.319449Z",
     "shell.execute_reply": "2022-08-23T04:44:35.318584Z"
    },
    "papermill": {
     "duration": 0.020963,
     "end_time": "2022-08-23T04:44:35.321978",
     "exception": false,
     "start_time": "2022-08-23T04:44:35.301015",
     "status": "completed"
    },
    "tags": []
   },
   "outputs": [],
   "source": [
    "# let's see we will try to find-out which phones have more then 4 star rating and rated_people more then 5000"
   ]
  },
  {
   "cell_type": "code",
   "execution_count": 32,
   "id": "08f5d895",
   "metadata": {
    "execution": {
     "iopub.execute_input": "2022-08-23T04:44:35.351119Z",
     "iopub.status.busy": "2022-08-23T04:44:35.350426Z",
     "iopub.status.idle": "2022-08-23T04:44:35.356985Z",
     "shell.execute_reply": "2022-08-23T04:44:35.356106Z"
    },
    "papermill": {
     "duration": 0.023644,
     "end_time": "2022-08-23T04:44:35.359481",
     "exception": false,
     "start_time": "2022-08-23T04:44:35.335837",
     "status": "completed"
    },
    "tags": []
   },
   "outputs": [],
   "source": [
    "df3=df1[(df1[\"Rated_people\"]>5000) & (df1[\"ratting_out_of_five\"]>4)]"
   ]
  },
  {
   "cell_type": "code",
   "execution_count": 33,
   "id": "5072912c",
   "metadata": {
    "execution": {
     "iopub.execute_input": "2022-08-23T04:44:35.386988Z",
     "iopub.status.busy": "2022-08-23T04:44:35.386185Z",
     "iopub.status.idle": "2022-08-23T04:44:35.662701Z",
     "shell.execute_reply": "2022-08-23T04:44:35.661468Z"
    },
    "papermill": {
     "duration": 0.293201,
     "end_time": "2022-08-23T04:44:35.665322",
     "exception": false,
     "start_time": "2022-08-23T04:44:35.372121",
     "status": "completed"
    },
    "tags": []
   },
   "outputs": [
    {
     "name": "stderr",
     "output_type": "stream",
     "text": [
      "/opt/conda/lib/python3.7/site-packages/seaborn/_decorators.py:43: FutureWarning: Pass the following variable as a keyword arg: x. From version 0.12, the only valid positional argument will be `data`, and passing other arguments without an explicit keyword will result in an error or misinterpretation.\n",
      "  FutureWarning\n"
     ]
    },
    {
     "data": {
      "image/png": "[encoded data removed]",
      "text/plain": [
       "<Figure size 1080x360 with 2 Axes>"
      ]
     },
     "metadata": {
      "needs_background": "light"
     },
     "output_type": "display_data"
    }
   ],
   "source": [
    "fig , axes =plt.subplots(nrows=1 ,ncols=2,figsize=(15,5))\n",
    "sns.countplot(df3[\"Brand\"],data=df3,ax=axes[0])\n",
    "plt.pie(df3[\"Brand\"].value_counts().values,labels=df3[\"Brand\"].value_counts().index,autopct='%.2f')\n",
    "plt.show()"
   ]
  },
  {
   "cell_type": "code",
   "execution_count": 34,
   "id": "1aa524b9",
   "metadata": {
    "execution": {
     "iopub.execute_input": "2022-08-23T04:44:35.694061Z",
     "iopub.status.busy": "2022-08-23T04:44:35.693258Z",
     "iopub.status.idle": "2022-08-23T04:44:35.697994Z",
     "shell.execute_reply": "2022-08-23T04:44:35.697229Z"
    },
    "papermill": {
     "duration": 0.021707,
     "end_time": "2022-08-23T04:44:35.700193",
     "exception": false,
     "start_time": "2022-08-23T04:44:35.678486",
     "status": "completed"
    },
    "tags": []
   },
   "outputs": [],
   "source": [
    "# here you can see the brand have more then four star ratting and ratted by more then 50000 people\n",
    "# by seeing this data you can say that redmi phones  are because peopeles are like best things\n",
    "# you can see the share of the redmi is more then 45 % in this categaory# le\n",
    "# on second number samsung"
   ]
  },
  {
   "cell_type": "code",
   "execution_count": 35,
   "id": "99031f63",
   "metadata": {
    "execution": {
     "iopub.execute_input": "2022-08-23T04:44:35.728943Z",
     "iopub.status.busy": "2022-08-23T04:44:35.727899Z",
     "iopub.status.idle": "2022-08-23T04:44:35.733239Z",
     "shell.execute_reply": "2022-08-23T04:44:35.731985Z"
    },
    "papermill": {
     "duration": 0.022151,
     "end_time": "2022-08-23T04:44:35.735558",
     "exception": false,
     "start_time": "2022-08-23T04:44:35.713407",
     "status": "completed"
    },
    "tags": []
   },
   "outputs": [],
   "source": [
    "# let's see what type of corelarions is in this data on heatmap"
   ]
  },
  {
   "cell_type": "code",
   "execution_count": 36,
   "id": "82cef204",
   "metadata": {
    "execution": {
     "iopub.execute_input": "2022-08-23T04:44:35.763835Z",
     "iopub.status.busy": "2022-08-23T04:44:35.763433Z",
     "iopub.status.idle": "2022-08-23T04:44:36.064131Z",
     "shell.execute_reply": "2022-08-23T04:44:36.062963Z"
    },
    "papermill": {
     "duration": 0.317884,
     "end_time": "2022-08-23T04:44:36.066796",
     "exception": false,
     "start_time": "2022-08-23T04:44:35.748912",
     "status": "completed"
    },
    "tags": []
   },
   "outputs": [
    {
     "data": {
      "text/plain": [
       "<AxesSubplot:>"
      ]
     },
     "execution_count": 36,
     "metadata": {},
     "output_type": "execute_result"
    },
    {
     "data": {
      "image/png": "[encoded data removed]",
      "text/plain": [
       "<Figure size 432x288 with 2 Axes>"
      ]
     },
     "metadata": {
      "needs_background": "light"
     },
     "output_type": "display_data"
    }
   ],
   "source": [
    "sns.heatmap(df1.corr(),cmap=\"coolwarm\",annot=True)"
   ]
  },
  {
   "cell_type": "code",
   "execution_count": 37,
   "id": "e2e47662",
   "metadata": {
    "execution": {
     "iopub.execute_input": "2022-08-23T04:44:36.097953Z",
     "iopub.status.busy": "2022-08-23T04:44:36.097030Z",
     "iopub.status.idle": "2022-08-23T04:44:36.102299Z",
     "shell.execute_reply": "2022-08-23T04:44:36.101317Z"
    },
    "papermill": {
     "duration": 0.023499,
     "end_time": "2022-08-23T04:44:36.104899",
     "exception": false,
     "start_time": "2022-08-23T04:44:36.081400",
     "status": "completed"
    },
    "tags": []
   },
   "outputs": [],
   "source": [
    "# if number is near to 1 or -1 then the columns are highly corelated \n",
    "# if number is near to 1 its mean if one columns value is Increasing then second columns value also be Increase\n",
    "# if number is near to -1 its mean if one columns value is Decreasing then second columns value also be Decrease"
   ]
  },
  {
   "cell_type": "code",
   "execution_count": 38,
   "id": "a3912c40",
   "metadata": {
    "execution": {
     "iopub.execute_input": "2022-08-23T04:44:36.134899Z",
     "iopub.status.busy": "2022-08-23T04:44:36.134057Z",
     "iopub.status.idle": "2022-08-23T04:44:36.138897Z",
     "shell.execute_reply": "2022-08-23T04:44:36.137964Z"
    },
    "papermill": {
     "duration": 0.022415,
     "end_time": "2022-08-23T04:44:36.141179",
     "exception": false,
     "start_time": "2022-08-23T04:44:36.118764",
     "status": "completed"
    },
    "tags": []
   },
   "outputs": [],
   "source": [
    "# I'm done\n",
    "# in this notebook grammatical mistakes can be"
   ]
  }
 ],
 "metadata": {
  "kernelspec": {
   "display_name": "Python 3",
   "language": "python",
   "name": "python3"
  },
  "language_info": {
   "codemirror_mode": {
    "name": "ipython",
    "version": 3
   },
   "file_extension": ".py",
   "mimetype": "text/x-python",
   "name": "python",
   "nbconvert_exporter": "python",
   "pygments_lexer": "ipython3",
   "version": "3.7.12"
  },
  "papermill": {
   "default_parameters": {},
   "duration": 28.85043,
   "end_time": "2022-08-23T04:44:36.977097",
   "environment_variables": {},
   "exception": null,
   "input_path": "__notebook__.ipynb",
   "output_path": "__notebook__.ipynb",
   "parameters": {},
   "start_time": "2022-08-23T04:44:08.126667",
   "version": "2.3.4"
  }
 },
 "nbformat": 4,
 "nbformat_minor": 5
}
